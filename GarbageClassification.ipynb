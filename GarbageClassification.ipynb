{
  "nbformat": 4,
  "nbformat_minor": 0,
  "metadata": {
    "colab": {
      "provenance": [],
      "gpuType": "T4"
    },
    "kernelspec": {
      "name": "python3",
      "display_name": "Python 3"
    },
    "language_info": {
      "name": "python"
    }
  },
  "cells": [
    {
      "cell_type": "code",
      "source": [
        "!pip install imutils"
      ],
      "metadata": {
        "colab": {
          "base_uri": "https://localhost:8080/"
        },
        "id": "ZNFAb0_C9Ee6",
        "outputId": "32365979-787a-4110-ce89-b86ccc4f2fb3"
      },
      "execution_count": 1,
      "outputs": [
        {
          "output_type": "stream",
          "name": "stdout",
          "text": [
            "Requirement already satisfied: imutils in /usr/local/lib/python3.10/dist-packages (0.5.4)\n"
          ]
        }
      ]
    },
    {
      "cell_type": "code",
      "source": [
        "!pip install opencv-python"
      ],
      "metadata": {
        "colab": {
          "base_uri": "https://localhost:8080/"
        },
        "id": "gL8MDINf9Nph",
        "outputId": "f5f937ec-b45a-433b-b0d0-b7ae9fee4417"
      },
      "execution_count": 2,
      "outputs": [
        {
          "output_type": "stream",
          "name": "stdout",
          "text": [
            "Requirement already satisfied: opencv-python in /usr/local/lib/python3.10/dist-packages (4.8.0.76)\n",
            "Requirement already satisfied: numpy>=1.21.2 in /usr/local/lib/python3.10/dist-packages (from opencv-python) (1.23.5)\n"
          ]
        }
      ]
    },
    {
      "cell_type": "code",
      "execution_count": 24,
      "metadata": {
        "id": "oMbi28yrnaMU"
      },
      "outputs": [],
      "source": [
        "import cv2\n",
        "import urllib\n",
        "import itertools\n",
        "import numpy as np\n",
        "import pandas as pd\n",
        "import seaborn as sns\n",
        "import random , os , glob\n",
        "from imutils import paths\n",
        "import matplotlib.pyplot as plt\n",
        "from sklearn.utils import shuffle\n",
        "from urllib.request import urlopen\n",
        "\n",
        "#Warningleri kapatmak için kullanılmaktadır.\n",
        "\n",
        "import warnings\n",
        "warnings.filterwarnings('ignore')\n",
        "\n",
        "#Model değerlendirme için kullanılacak olan kütüphaneler\n",
        "from sklearn.metrics import confusion_matrix, classification_report\n",
        "\n",
        "# Model için kullanılacak olan kütüphaneler\n",
        "import tensorflow as tf\n",
        "from tensorflow.keras.models import Sequential\n",
        "from tensorflow.keras.preprocessing import image\n",
        "from tensorflow.keras.utils import to_categorical\n",
        "from tensorflow.keras.callbacks import ModelCheckpoint, EarlyStopping\n",
        "from tensorflow.keras.layers import Conv2D, Flatten, MaxPool2D, Dense, Dropout, SpatialDropout2D\n",
        "from tensorflow.keras.preprocessing.image import ImageDataGenerator, img_to_array, load_img, array_to_img"
      ]
    },
    {
      "cell_type": "code",
      "source": [
        "from google.colab import drive\n",
        "drive.mount('/content/drive')\n"
      ],
      "metadata": {
        "colab": {
          "base_uri": "https://localhost:8080/"
        },
        "id": "2t-w67w2nsvs",
        "outputId": "266ac78e-2968-4deb-dfc3-9c79c0708dc8"
      },
      "execution_count": 8,
      "outputs": [
        {
          "output_type": "stream",
          "name": "stdout",
          "text": [
            "Mounted at /content/drive\n"
          ]
        }
      ]
    },
    {
      "cell_type": "code",
      "source": [
        "dir_path = r\"C:\\Users\\talha\\Desktop\\GarbageClassification\\GarbageClassification\\Garbage classification\""
      ],
      "metadata": {
        "id": "UQOc_LaN5GZp"
      },
      "execution_count": 4,
      "outputs": []
    },
    {
      "cell_type": "code",
      "source": [
        "# Target_Size ve Label Değerlerinin Belirlenmesi\n",
        "\n",
        "target_size = (224, 224)\n",
        "\n",
        "waste_labels = {\"cardboard\": 0,\n",
        "                \"glass\": 1,\n",
        "                \"metal\" : 2,\n",
        "                \"paper\" : 3,\n",
        "                \"plastic\" : 4,\n",
        "                \"trash\" : 5}"
      ],
      "metadata": {
        "id": "3EMpRorJ5iNG"
      },
      "execution_count": 5,
      "outputs": []
    },
    {
      "cell_type": "code",
      "source": [
        "def load_datasets(path):\n",
        "    \"\"\"\n",
        "Görsellerin bulunduğu dizindeki görüntüyü okuyup etiketlerini oluşturur.\n",
        "Parametreler:\n",
        "path: Görsellerin bulunduğu dizini ifade eder.\n",
        "Return:\n",
        "x: Görüntülere ait matris bilgilerini tutar.\n",
        "labels: Görüntünün ait olduğu sınıf bilgisini tutan liste.\n",
        "    \"\"\"\n",
        "\n",
        "\n",
        "    x = []\n",
        "    labels = []\n",
        "\n",
        "    # Gönderdiğimiz pathdeki görüntüleri listeleyip sıralamaktadır.\n",
        "    image_paths = sorted(list(paths.list_images(path)))\n",
        "\n",
        "    for image_path in image_paths:\n",
        "        # Belirtilen pathdeki görüntüler openCV kütüphanesi ile okunmaktadır.\n",
        "        img = cv2.imread(image_path)\n",
        "\n",
        "        # Okunan görüntüler başlangıçta belirlenen target_size'a göre yeniden ölçeklendirilir.\n",
        "        img = cv2.resize(img, target_size)\n",
        "\n",
        "        # Ölçeklendirilen görüntüler x listesine eklenir.\n",
        "        x.append(img)\n",
        "\n",
        "        # Her bir path \"/\" ifadesi ile ayrıldığında dönen listenin sonran ikinci elamanı label'ı temsil etmektedir.\n",
        "        label = image_path.split(os.path.sep)[-2]\n",
        "\n",
        "        # Yakalanan labelların sayısal değer karşılıklarının olduğu waste_labels sözlüğü içerisinden gönderilen key\n",
        "        # değerine karşılık value değeri alınarak label oluşturulur.\n",
        "        labels.append(waste_labels[label])\n",
        "\n",
        "    # Veri seti random bir şekilde karıştırılır.\n",
        "    x, labels = shuffle(x, labels, random_state=42)\n",
        "\n",
        "    # Boyut ve Sınıf bilgisi raporlanmaktadır.\n",
        "    print(f\"X boyutu: {np.array(x).shape}\")\n",
        "    print(f\"Label sınıf sayısı: {len(np.unique(labels))} Gözlem sayısı: {len(labels)}\")\n",
        "\n",
        "    return x, labels"
      ],
      "metadata": {
        "id": "NIHTnsMy5w-C"
      },
      "execution_count": 26,
      "outputs": []
    },
    {
      "cell_type": "code",
      "source": [
        "x, labes = load_datasets(dir_path)"
      ],
      "metadata": {
        "colab": {
          "base_uri": "https://localhost:8080/"
        },
        "id": "tpw4iZ949Dab",
        "outputId": "6d365b2c-7db3-4996-bd9a-1b78303dfa56"
      },
      "execution_count": 27,
      "outputs": [
        {
          "output_type": "stream",
          "name": "stdout",
          "text": [
            "X boyutu: (0,)\n",
            "Label sınıf sayısı: 0 Gözlem sayısı: 0\n"
          ]
        }
      ]
    },
    {
      "cell_type": "code",
      "source": [],
      "metadata": {
        "id": "AEM22hp3__s9"
      },
      "execution_count": null,
      "outputs": []
    }
  ]
}